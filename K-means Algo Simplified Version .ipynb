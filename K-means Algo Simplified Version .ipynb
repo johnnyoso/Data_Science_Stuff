{
 "cells": [
  {
   "cell_type": "markdown",
   "metadata": {},
   "source": [
    "# Lab 6.1 Simplified"
   ]
  },
  {
   "cell_type": "code",
   "execution_count": 1,
   "metadata": {},
   "outputs": [],
   "source": [
    "import pandas as pd\n",
    "import numpy as np\n",
    "\n",
    "%matplotlib inline\n",
    "import matplotlib.pyplot as plt"
   ]
  },
  {
   "cell_type": "code",
   "execution_count": 2,
   "metadata": {},
   "outputs": [],
   "source": [
    "#Let us define our dataset\n",
    "features = ['sepal_length', 'petal_length']\n",
    "    \n",
    "# just some mock dataset\n",
    "X = pd.DataFrame([[1, 9], [1, 10], [2, 9.5], [2, 8], [3, 10], [3, 8], [6, 4], [7, 5], [7, 3], \n",
    "                      [8, 3], [8, 4], [9, 6], [11, 9], [12, 8], [12.5, 10], [13, 8], [13, 9], [14, 10]], \n",
    "                     columns = features)\n",
    "\n",
    "# the initial centroids was something i took randomly between the lowest and highest values of all the features\n",
    "# So we have 2 features and 3 centroids --> assuming 3 clusters\n",
    "\n",
    "#Centroid 0, 1, and 2\n",
    "centroids = [[1, 3], [12, 5], [2, 5]]   "
   ]
  },
  {
   "cell_type": "markdown",
   "metadata": {},
   "source": [
    "# Please note that the dimensions of the centroid is dependent on the number of features for this Lab \n",
    "\n",
    "e.g. if there are 3 features then the centroid will be [ [x1, y1, z1], [x2,y2,z2], [x3, y3, z3] ]"
   ]
  },
  {
   "cell_type": "code",
   "execution_count": 3,
   "metadata": {},
   "outputs": [
    {
     "data": {
      "text/plain": [
       "(18, 2)"
      ]
     },
     "execution_count": 3,
     "metadata": {},
     "output_type": "execute_result"
    }
   ],
   "source": [
    "X.shape"
   ]
  },
  {
   "cell_type": "code",
   "execution_count": 4,
   "metadata": {},
   "outputs": [
    {
     "data": {
      "image/png": "[encoded data removed]",
      "text/plain": [
       "<Figure size 432x288 with 1 Axes>"
      ]
     },
     "metadata": {},
     "output_type": "display_data"
    }
   ],
   "source": [
    "#we plot the data just to see what it looks like\n",
    "plt.scatter(x = X.sepal_length, y = X.petal_length)\n",
    "\n",
    "for index1 in range(len(centroids)):\n",
    "    plt.scatter(x = centroids[index1][0], y = centroids[index1][1], marker = 'x')\n",
    "    \n",
    "plt.show()\n",
    "#The centroids will appear as Xs on the chart\n"
   ]
  },
  {
   "cell_type": "markdown",
   "metadata": {},
   "source": [
    "# Let's explore the closest centroid function"
   ]
  },
  {
   "cell_type": "code",
   "execution_count": 17,
   "metadata": {},
   "outputs": [],
   "source": [
    "def closest_centroid(X, centroids):\n",
    "    distances = []\n",
    "    \n",
    "    p = np.array(X)\n",
    "    \n",
    "    for c in centroids:\n",
    "        \n",
    "        q = np.array(c)\n",
    "        \n",
    "        d = np.sqrt(np.sum((p - q)**2))\n",
    "        \n",
    "        distances.append(d)\n",
    "#     print(distances)\n",
    "#     print(np.array(distances).argmin())\n",
    "        \n",
    "    return np.array(distances).argmin()"
   ]
  },
  {
   "cell_type": "code",
   "execution_count": 6,
   "metadata": {},
   "outputs": [
    {
     "name": "stdout",
     "output_type": "stream",
     "text": [
      "[6.0, 11.704699910719626, 4.123105625617661]\n",
      "2\n"
     ]
    },
    {
     "data": {
      "text/plain": [
       "2"
      ]
     },
     "execution_count": 6,
     "metadata": {},
     "output_type": "execute_result"
    }
   ],
   "source": [
    "#Let explore the function above and see what it does\n",
    "closest_centroid(np.array(X)[0], centroids)"
   ]
  },
  {
   "cell_type": "markdown",
   "metadata": {},
   "source": [
    "So the function closest_centroid takes one data point and the centroid and computes the distance between that single data point\n",
    "and all the centroids"
   ]
  },
  {
   "cell_type": "markdown",
   "metadata": {},
   "source": [
    "The **Euclidean distance** between points `p` and `q` is the length of the line segment connecting them ($\\overline{pq}$).\n",
    "\n",
    "In **Cartesian coordinates**, if $p = (p_1, p_2,..., p_n)$ and $q = (q_1, q_2,..., q_n)$ are two points in **Euclidean n-space**, then the distance `d` from `p` to `q`, or from `q` to `p` is given by the **Pythagorean formula**:\n",
    "\n",
    "$$\n",
    "{\\displaystyle {\\begin{aligned}d(\\mathbf {p} ,\\mathbf {q} )=d(\\mathbf {q} ,\\mathbf {p} )&={\\sqrt {(q_{1}-p_{1})^{2}+(q_{2}-p_{2})^{2}+\\cdots +(q_{n}-p_{n})^{2}}}\\\\[8pt]&={\\sqrt {\\sum _{i=1}^{n}(q_{i}-p_{i})^{2}}}.\\end{aligned}}}\n",
    "$$"
   ]
  },
  {
   "cell_type": "markdown",
   "metadata": {},
   "source": [
    "Our first data point was [1, 9] and so the distance was computed using the equation above:\n",
    "\n",
    "distance from centroid 0  = square root((1 - 1)^2 + (3 - 9)^2) = 6.0 \n",
    "distance from centroid 1 = square root((12 - 1)^2 + (5 - 9)^2) = 11.7046999....\n",
    "distance from centroid 2 = square root((2 - 1)^2 + (5 - 9)^2) = 4.12310...\n",
    "\n",
    "giving us the result: [6.0, 11.704699910719626, 4.123105625617661] which is an array of distances from the first data point to all three centroids respectively\n",
    "\n",
    "then we simply get the index of the array containing the smallest value ergo the shortest distance which is 2\n",
    "\n",
    "this means that Centroid 2 is closest to data point [1, 9] "
   ]
  },
  {
   "cell_type": "markdown",
   "metadata": {},
   "source": [
    "# Now that we know what the closest_centroid function does, let's apply it to all the data points"
   ]
  },
  {
   "cell_type": "code",
   "execution_count": 7,
   "metadata": {},
   "outputs": [
    {
     "name": "stdout",
     "output_type": "stream",
     "text": [
      "[6.0, 11.704699910719626, 4.123105625617661]\n",
      "2\n",
      "[7.0, 12.083045973594572, 5.0990195135927845]\n",
      "2\n",
      "[6.576473218982953, 10.965856099730654, 4.5]\n",
      "2\n",
      "[5.0990195135927845, 10.44030650891055, 3.0]\n",
      "2\n",
      "[7.280109889280518, 10.295630140987, 5.0990195135927845]\n",
      "2\n",
      "[5.385164807134504, 9.486832980505138, 3.1622776601683795]\n",
      "2\n",
      "[5.0990195135927845, 6.082762530298219, 4.123105625617661]\n",
      "2\n",
      "[6.324555320336759, 5.0, 5.0]\n",
      "1\n",
      "[6.0, 5.385164807134504, 5.385164807134504]\n",
      "1\n",
      "[7.0, 4.47213595499958, 6.324555320336759]\n",
      "1\n",
      "[7.0710678118654755, 4.123105625617661, 6.082762530298219]\n",
      "1\n",
      "[8.54400374531753, 3.1622776601683795, 7.0710678118654755]\n",
      "1\n",
      "[11.661903789690601, 4.123105625617661, 9.848857801796104]\n",
      "1\n",
      "[12.083045973594572, 3.0, 10.44030650891055]\n",
      "1\n",
      "[13.46291201783626, 5.024937810560445, 11.629703349613008]\n",
      "1\n",
      "[13.0, 3.1622776601683795, 11.40175425099138]\n",
      "1\n",
      "[13.416407864998739, 4.123105625617661, 11.704699910719626]\n",
      "1\n",
      "[14.7648230602334, 5.385164807134504, 13.0]\n",
      "1\n"
     ]
    }
   ],
   "source": [
    "y = []\n",
    "\n",
    "for index in np.array(X):\n",
    "    close_cen = closest_centroid(index, centroids)\n",
    "    y.append(close_cen)"
   ]
  },
  {
   "cell_type": "code",
   "execution_count": 8,
   "metadata": {},
   "outputs": [
    {
     "name": "stdout",
     "output_type": "stream",
     "text": [
      "[2, 2, 2, 2, 2, 2, 2, 1, 1, 1, 1, 1, 1, 1, 1, 1, 1, 1]\n"
     ]
    }
   ],
   "source": [
    "#Now we have an array of Centroids CLOSEST to a specific data point as shown below\n",
    "print(y)"
   ]
  },
  {
   "cell_type": "markdown",
   "metadata": {},
   "source": [
    "As you can see above, Centroid 2 is closest to data points 0 to 5, while Centroid 1 is closest to data points 6 to 17 and Centroid 0 isn't close to anybody "
   ]
  },
  {
   "cell_type": "markdown",
   "metadata": {},
   "source": [
    "# Now let's go through the update_centroid function in detail"
   ]
  },
  {
   "cell_type": "code",
   "execution_count": 15,
   "metadata": {},
   "outputs": [],
   "source": [
    "# recalculate all the centroids based on the mean of the members of each cluster\n",
    "def update_centroid(X, y, centroids):\n",
    "    c = []\n",
    "    y = np.array(y)\n",
    "    # for each of the existing centroids\n",
    "    for i in range(len(centroids)):\n",
    "        # check if any object was assigned to a cluster\n",
    "        \n",
    "        if X[y == i].shape[0]: #If the value is not ZERO, do the stuff\n",
    "            \n",
    "            dimensions = []\n",
    "            \n",
    "            # for all the features\n",
    "            for f in X.columns:\n",
    "                \n",
    "                #print('X[feature] is: ' + str(X[f]))\n",
    "                \n",
    "                # calculate the mean == the mean of what!??\n",
    "                x = np.mean(X[f][y == i]) #I think it calculates the mean for all values in that feature but only for a certain centroid index\n",
    "#                 print('we get the mean of the values for : ' + f)\n",
    "#                 print('y is: ' + str(y)+ ' mean is: ' + str(x) + ' for Centroid ' + str(i) + ' for feature: ' + f)\n",
    "#                 print('\\n')\n",
    "                dimensions.append(x)\n",
    "                \n",
    "            c.append(dimensions)\n",
    "        # if a cluster got no members\n",
    "        else:\n",
    "            # keep the previous coordinates\n",
    "#             print('Centroid ' + str(i) + ' has no members')\n",
    "#             print('\\n')\n",
    "            c.append(centroids[i]) #\n",
    "\n",
    "    return c"
   ]
  },
  {
   "cell_type": "markdown",
   "metadata": {},
   "source": [
    "# Let's run it and see what the output is"
   ]
  },
  {
   "cell_type": "code",
   "execution_count": 10,
   "metadata": {},
   "outputs": [
    {
     "name": "stdout",
     "output_type": "stream",
     "text": [
      "Centroid 0 has no members\n",
      "\n",
      "\n",
      "we get the mean of the values for : sepal_length\n",
      "y is: [2 2 2 2 2 2 2 1 1 1 1 1 1 1 1 1 1 1] mean is: 10.409090909090908 for Centroid 1 for feature: sepal_length\n",
      "\n",
      "\n",
      "we get the mean of the values for : petal_length\n",
      "y is: [2 2 2 2 2 2 2 1 1 1 1 1 1 1 1 1 1 1] mean is: 6.818181818181818 for Centroid 1 for feature: petal_length\n",
      "\n",
      "\n",
      "we get the mean of the values for : sepal_length\n",
      "y is: [2 2 2 2 2 2 2 1 1 1 1 1 1 1 1 1 1 1] mean is: 2.5714285714285716 for Centroid 2 for feature: sepal_length\n",
      "\n",
      "\n",
      "we get the mean of the values for : petal_length\n",
      "y is: [2 2 2 2 2 2 2 1 1 1 1 1 1 1 1 1 1 1] mean is: 8.357142857142858 for Centroid 2 for feature: petal_length\n",
      "\n",
      "\n",
      "[[1, 3], [10.409090909090908, 6.818181818181818], [2.5714285714285716, 8.357142857142858]]\n"
     ]
    }
   ],
   "source": [
    "updated_centroids = update_centroid(X[features], y, centroids)\n",
    "print(updated_centroids)"
   ]
  },
  {
   "cell_type": "markdown",
   "metadata": {},
   "source": [
    "So the function update_centroids gets all the values for a feature that is indexed to a particular centroid and computes the mean for it\n",
    "\n",
    "example:\n",
    "\n",
    "Our earlier array of Centroids closest to the data points = [2, 2, 2, 2, 2, 2, 2, 1, 1, 1, 1, 1, 1, 1, 1, 1, 1, 1]\n",
    "\n",
    "The function groups all the data points closest to Centroid 2 according to the array above and calculates the mean for that feature independently. \n",
    "\n",
    "Centroid 2 is closes to data points 0 to 6 and they are: [1, 9], [1, 10], [2, 9.5], [2, 8], [3, 10], [3, 8], [6, 4]\n",
    "\n",
    "We then take the mean of each feature \n",
    "\n",
    "sepal_length = (1 + 1 + 2 + 2 + 3 + 3 + 6) / 7 = 2.57142....\n",
    "petal_length = (9 + 10 + 9.5 + 8 + 10 + 8 + 4) / 7 = 8.357142.....\n",
    "\n",
    "And since Centroid 0 wasn't included in the array, it will keep it's original value which is [1, 3]\n",
    "\n",
    "so now our updated Centroids are: [[1, 3], [10.409090909090908, 6.818181818181818], [2.5714285714285716, 8.357142857142858]]\n"
   ]
  },
  {
   "cell_type": "markdown",
   "metadata": {},
   "source": [
    "# Now if we plot our updated Centroids it will look like"
   ]
  },
  {
   "cell_type": "code",
   "execution_count": 11,
   "metadata": {},
   "outputs": [
    {
     "data": {
      "image/png": "[encoded data removed]",
      "text/plain": [
       "<Figure size 432x288 with 1 Axes>"
      ]
     },
     "metadata": {},
     "output_type": "display_data"
    }
   ],
   "source": [
    "#we plot the data just to see what it looks like\n",
    "plt.scatter(x = X.sepal_length, y = X.petal_length)\n",
    "\n",
    "for index1 in range(len(updated_centroids)):\n",
    "    plt.scatter(x = updated_centroids[index1][0], y = updated_centroids[index1][1], marker = 'x')\n",
    "    \n",
    "plt.show()\n",
    "#The centroids will appear as Xs on the chart"
   ]
  },
  {
   "cell_type": "markdown",
   "metadata": {},
   "source": [
    "Both Centroids 1 and 2 moved but Centroid 0 stayed where it was "
   ]
  },
  {
   "cell_type": "markdown",
   "metadata": {},
   "source": [
    "# Now we need to continually optimize the centroids by running closest centroid and update_centroids until the Centroids stopped \"moving\" or changing values"
   ]
  },
  {
   "cell_type": "code",
   "execution_count": 27,
   "metadata": {},
   "outputs": [
    {
     "name": "stdout",
     "output_type": "stream",
     "text": [
      "[[7.5, 4.166666666666667], [12.583333333333334, 9.0], [2.0, 9.083333333333334]]\n"
     ]
    }
   ],
   "source": [
    "optimized_yet = False\n",
    "\n",
    "while optimized_yet == False:\n",
    "    \n",
    "    y = []\n",
    "\n",
    "    #This is our FOR loop from before\n",
    "    for index in np.array(X):\n",
    "        close_cen = closest_centroid(index, centroids)\n",
    "        y.append(close_cen)\n",
    "        \n",
    "    # move the known assignment be the previous state, for post comparison\n",
    "    old_c = centroids.copy()\n",
    "    \n",
    "    # Let's run update_centroid and re-write the previous value of centroids\n",
    "    centroids = update_centroid(X[features], y, centroids) # Update the centroids\n",
    "    print(centroids)\n",
    "    \n",
    "    # 6. Repeat steps 3 to 5 until the centroids do not change\n",
    "    if old_c == centroids:\n",
    "        optimized_yet = True"
   ]
  },
  {
   "cell_type": "markdown",
   "metadata": {},
   "source": [
    "# And our final plot looks like"
   ]
  },
  {
   "cell_type": "code",
   "execution_count": 25,
   "metadata": {},
   "outputs": [
    {
     "data": {
      "image/png": "[encoded data removed]",
      "text/plain": [
       "<Figure size 432x288 with 1 Axes>"
      ]
     },
     "metadata": {},
     "output_type": "display_data"
    }
   ],
   "source": [
    "plt.scatter(x = X.sepal_length, y = X.petal_length)\n",
    "\n",
    "for index1 in range(len(centroids)):\n",
    "    plt.scatter(x = centroids[index1][0], y = centroids[index1][1], marker = 'x')\n",
    "    \n",
    "plt.show()\n",
    "#The centroids will appear as Xs on the chart"
   ]
  },
  {
   "cell_type": "code",
   "execution_count": null,
   "metadata": {},
   "outputs": [],
   "source": []
  }
 ],
 "metadata": {
  "kernelspec": {
   "display_name": "Python 3",
   "language": "python",
   "name": "python3"
  },
  "language_info": {
   "codemirror_mode": {
    "name": "ipython",
    "version": 3
   },
   "file_extension": ".py",
   "mimetype": "text/x-python",
   "name": "python",
   "nbconvert_exporter": "python",
   "pygments_lexer": "ipython3",
   "version": "3.6.5"
  }
 },
 "nbformat": 4,
 "nbformat_minor": 2
}
