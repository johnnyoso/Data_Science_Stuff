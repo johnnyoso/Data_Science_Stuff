{
 "cells": [
  {
   "cell_type": "markdown",
   "metadata": {},
   "source": [
    "# Titanic Dataset Exploration"
   ]
  },
  {
   "cell_type": "code",
   "execution_count": 1,
   "metadata": {},
   "outputs": [],
   "source": [
    "import pandas as pd\n",
    "import numpy as np\n",
    "import seaborn as sns\n",
    "import matplotlib.pyplot as plt"
   ]
  },
  {
   "cell_type": "code",
   "execution_count": 4,
   "metadata": {},
   "outputs": [
    {
     "data": {
      "text/html": [
       "<div>\n",
       "<style scoped>\n",
       "    .dataframe tbody tr th:only-of-type {\n",
       "        vertical-align: middle;\n",
       "    }\n",
       "\n",
       "    .dataframe tbody tr th {\n",
       "        vertical-align: top;\n",
       "    }\n",
       "\n",
       "    .dataframe thead th {\n",
       "        text-align: right;\n",
       "    }\n",
       "</style>\n",
       "<table border=\"1\" class=\"dataframe\">\n",
       "  <thead>\n",
       "    <tr style=\"text-align: right;\">\n",
       "      <th></th>\n",
       "      <th>PassengerId</th>\n",
       "      <th>Survived</th>\n",
       "      <th>Pclass</th>\n",
       "      <th>Name</th>\n",
       "      <th>Sex</th>\n",
       "      <th>Age</th>\n",
       "      <th>SibSp</th>\n",
       "      <th>Parch</th>\n",
       "      <th>Ticket</th>\n",
       "      <th>Fare</th>\n",
       "      <th>Cabin</th>\n",
       "      <th>Embarked</th>\n",
       "    </tr>\n",
       "  </thead>\n",
       "  <tbody>\n",
       "    <tr>\n",
       "      <th>0</th>\n",
       "      <td>1</td>\n",
       "      <td>0</td>\n",
       "      <td>3</td>\n",
       "      <td>Braund, Mr. Owen Harris</td>\n",
       "      <td>male</td>\n",
       "      <td>22.0</td>\n",
       "      <td>1</td>\n",
       "      <td>0</td>\n",
       "      <td>A/5 21171</td>\n",
       "      <td>7.2500</td>\n",
       "      <td>NaN</td>\n",
       "      <td>S</td>\n",
       "    </tr>\n",
       "    <tr>\n",
       "      <th>1</th>\n",
       "      <td>2</td>\n",
       "      <td>1</td>\n",
       "      <td>1</td>\n",
       "      <td>Cumings, Mrs. John Bradley (Florence Briggs Th...</td>\n",
       "      <td>female</td>\n",
       "      <td>38.0</td>\n",
       "      <td>1</td>\n",
       "      <td>0</td>\n",
       "      <td>PC 17599</td>\n",
       "      <td>71.2833</td>\n",
       "      <td>C85</td>\n",
       "      <td>C</td>\n",
       "    </tr>\n",
       "    <tr>\n",
       "      <th>2</th>\n",
       "      <td>3</td>\n",
       "      <td>1</td>\n",
       "      <td>3</td>\n",
       "      <td>Heikkinen, Miss. Laina</td>\n",
       "      <td>female</td>\n",
       "      <td>26.0</td>\n",
       "      <td>0</td>\n",
       "      <td>0</td>\n",
       "      <td>STON/O2. 3101282</td>\n",
       "      <td>7.9250</td>\n",
       "      <td>NaN</td>\n",
       "      <td>S</td>\n",
       "    </tr>\n",
       "    <tr>\n",
       "      <th>3</th>\n",
       "      <td>4</td>\n",
       "      <td>1</td>\n",
       "      <td>1</td>\n",
       "      <td>Futrelle, Mrs. Jacques Heath (Lily May Peel)</td>\n",
       "      <td>female</td>\n",
       "      <td>35.0</td>\n",
       "      <td>1</td>\n",
       "      <td>0</td>\n",
       "      <td>113803</td>\n",
       "      <td>53.1000</td>\n",
       "      <td>C123</td>\n",
       "      <td>S</td>\n",
       "    </tr>\n",
       "    <tr>\n",
       "      <th>4</th>\n",
       "      <td>5</td>\n",
       "      <td>0</td>\n",
       "      <td>3</td>\n",
       "      <td>Allen, Mr. William Henry</td>\n",
       "      <td>male</td>\n",
       "      <td>35.0</td>\n",
       "      <td>0</td>\n",
       "      <td>0</td>\n",
       "      <td>373450</td>\n",
       "      <td>8.0500</td>\n",
       "      <td>NaN</td>\n",
       "      <td>S</td>\n",
       "    </tr>\n",
       "  </tbody>\n",
       "</table>\n",
       "</div>"
      ],
      "text/plain": [
       "   PassengerId  Survived  Pclass  \\\n",
       "0            1         0       3   \n",
       "1            2         1       1   \n",
       "2            3         1       3   \n",
       "3            4         1       1   \n",
       "4            5         0       3   \n",
       "\n",
       "                                                Name     Sex   Age  SibSp  \\\n",
       "0                            Braund, Mr. Owen Harris    male  22.0      1   \n",
       "1  Cumings, Mrs. John Bradley (Florence Briggs Th...  female  38.0      1   \n",
       "2                             Heikkinen, Miss. Laina  female  26.0      0   \n",
       "3       Futrelle, Mrs. Jacques Heath (Lily May Peel)  female  35.0      1   \n",
       "4                           Allen, Mr. William Henry    male  35.0      0   \n",
       "\n",
       "   Parch            Ticket     Fare Cabin Embarked  \n",
       "0      0         A/5 21171   7.2500   NaN        S  \n",
       "1      0          PC 17599  71.2833   C85        C  \n",
       "2      0  STON/O2. 3101282   7.9250   NaN        S  \n",
       "3      0            113803  53.1000  C123        S  \n",
       "4      0            373450   8.0500   NaN        S  "
      ]
     },
     "execution_count": 4,
     "metadata": {},
     "output_type": "execute_result"
    }
   ],
   "source": [
    "titanic_data = pd.read_csv(r'C:\\Users\\john.osorio\\Desktop\\BLACK CAT\\Student Materials-20180820T065027Z-001\\Student Materials\\DataScience-AI-master\\Labs\\dat\\Labs_dat_titanic.csv')\n",
    "titanic_data.head()"
   ]
  },
  {
   "cell_type": "markdown",
   "metadata": {},
   "source": [
    "# I wanted to show what the gender ratio is for the survivors"
   ]
  },
  {
   "cell_type": "code",
   "execution_count": 5,
   "metadata": {},
   "outputs": [],
   "source": [
    "surviving_male = titanic_data[(titanic_data.Sex == 'male') & (titanic_data.Survived == 1)]\n",
    "surviving_female = titanic_data[(titanic_data.Sex == 'female') & (titanic_data.Survived == 1)]"
   ]
  },
  {
   "cell_type": "code",
   "execution_count": 6,
   "metadata": {},
   "outputs": [
    {
     "data": {
      "text/plain": [
       "array([ 0.75      ,  1.        ,  2.        ,  3.        ,  4.        ,\n",
       "        5.        ,  6.        ,  7.        ,  8.        , 13.        ,\n",
       "       14.        , 15.        , 16.        , 17.        , 18.        ,\n",
       "       19.        , 21.        , 22.        , 23.        , 24.        ,\n",
       "       25.        , 26.        , 27.        , 28.        , 28.84771574,\n",
       "       29.        , 30.        , 31.        , 32.        , 32.5       ,\n",
       "       33.        , 34.        , 35.        , 36.        , 38.        ,\n",
       "       39.        , 40.        , 41.        , 42.        , 43.        ,\n",
       "       44.        , 45.        , 47.        , 48.        , 49.        ,\n",
       "       50.        , 51.        , 52.        , 53.        , 54.        ,\n",
       "       55.        , 56.        , 58.        , 60.        , 62.        ,\n",
       "       63.        ])"
      ]
     },
     "execution_count": 6,
     "metadata": {},
     "output_type": "execute_result"
    }
   ],
   "source": [
    "surviving_male.Age.fillna(np.mean(surviving_male.Age)).sort_values().unique()\n",
    "surviving_female.Age.fillna(np.mean(surviving_female.Age)).sort_values().unique()"
   ]
  },
  {
   "cell_type": "code",
   "execution_count": 7,
   "metadata": {},
   "outputs": [],
   "source": [
    "male_age_grp_1 = surviving_male[(surviving_male.Age > 0) & (surviving_male.Age <= 10)]\n",
    "male_age_grp_2 = surviving_male[(surviving_male.Age > 10) & (surviving_male.Age <= 20)]\n",
    "male_age_grp_3 = surviving_male[(surviving_male.Age > 20) & (surviving_male.Age <= 30)]\n",
    "male_age_grp_4 = surviving_male[(surviving_male.Age > 30) & (surviving_male.Age <= 40)]\n",
    "male_age_grp_5 = surviving_male[(surviving_male.Age > 40) & (surviving_male.Age <= 50)]\n",
    "male_age_grp_6 = surviving_male[(surviving_male.Age > 50) & (surviving_male.Age <= 60)]\n",
    "male_age_grp_7 = surviving_male[(surviving_male.Age > 60) & (surviving_male.Age <= 70)]\n",
    "male_age_grp_8 = surviving_male[(surviving_male.Age > 70) & (surviving_male.Age <= 80)]"
   ]
  },
  {
   "cell_type": "code",
   "execution_count": 8,
   "metadata": {},
   "outputs": [],
   "source": [
    "y_male = [male_age_grp_1.Age.value_counts().sum(),\n",
    "    male_age_grp_2.Age.value_counts().sum(),\n",
    "    male_age_grp_3.Age.value_counts().sum(),\n",
    "    male_age_grp_4.Age.value_counts().sum(),\n",
    "    male_age_grp_5.Age.value_counts().sum(),\n",
    "    male_age_grp_6.Age.value_counts().sum(),\n",
    "    male_age_grp_7.Age.value_counts().sum(),\n",
    "    male_age_grp_8.Age.value_counts().sum()]\n",
    "\n",
    "x_male = ['0 - 10', '10 - 20', '20 - 30', '30 - 40', '40 - 50', '50 - 60', '60 - 70', '70 - 80']"
   ]
  },
  {
   "cell_type": "code",
   "execution_count": 9,
   "metadata": {},
   "outputs": [],
   "source": [
    "female_age_grp_1 = surviving_female[(surviving_female.Age > 0) & (surviving_female.Age <= 10)]\n",
    "female_age_grp_2 = surviving_female[(surviving_female.Age > 10) & (surviving_female.Age <= 20)]\n",
    "female_age_grp_3 = surviving_female[(surviving_female.Age > 20) & (surviving_female.Age <= 30)]\n",
    "female_age_grp_4 = surviving_female[(surviving_female.Age > 30) & (surviving_female.Age <= 40)]\n",
    "female_age_grp_5 = surviving_female[(surviving_female.Age > 40) & (surviving_female.Age <= 50)]\n",
    "female_age_grp_6 = surviving_female[(surviving_female.Age > 50) & (surviving_female.Age <= 60)]\n",
    "female_age_grp_7 = surviving_female[(surviving_female.Age > 60) & (surviving_female.Age <= 70)]\n",
    "female_age_grp_8 = surviving_female[(surviving_female.Age > 70) & (surviving_female.Age <= 80)]"
   ]
  },
  {
   "cell_type": "code",
   "execution_count": 10,
   "metadata": {},
   "outputs": [],
   "source": [
    "y_female = [female_age_grp_1.Age.value_counts().sum(),\n",
    "    female_age_grp_2.Age.value_counts().sum(),\n",
    "    female_age_grp_3.Age.value_counts().sum(),\n",
    "    female_age_grp_4.Age.value_counts().sum(),\n",
    "    female_age_grp_5.Age.value_counts().sum(),\n",
    "    female_age_grp_6.Age.value_counts().sum(),\n",
    "    female_age_grp_7.Age.value_counts().sum(),\n",
    "    female_age_grp_8.Age.value_counts().sum()]\n",
    "\n",
    "x_female = ['0 - 10', '10 - 20', '20 - 30', '30 - 40', '40 - 50', '50 - 60', '60 - 70', '70 - 80']"
   ]
  },
  {
   "cell_type": "code",
   "execution_count": 12,
   "metadata": {},
   "outputs": [
    {
     "data": {
      "image/png": "[encoded data removed]",
      "text/plain": [
       "<Figure size 576x576 with 2 Axes>"
      ]
     },
     "metadata": {},
     "output_type": "display_data"
    }
   ],
   "source": [
    "fig, axs = plt.subplots(nrows=1, ncols=2, sharex=False, sharey = True, figsize=(8, 8))\n",
    "fig.subplots_adjust(wspace = 0)\n",
    "\n",
    "sns.barplot(y_female, x_female, color='r', ax = axs[0])\n",
    "sns.barplot(y_male, x_male, color=\"b\", ax = axs[1])\n",
    "\n",
    "axs[1].set_xlim(0, 70)\n",
    "axs[0].set_xlim(0, 70)\n",
    "\n",
    "axs[0].set_title('Female Survivors')\n",
    "axs[1].set_title('Male Survivors')\n",
    "\n",
    "axs[0].set_ylabel('Age Range')\n",
    "\n",
    "axs[0].invert_xaxis()\n"
   ]
  },
  {
   "cell_type": "markdown",
   "metadata": {},
   "source": [
    "# I also want to know how the spread of the ticket type owners"
   ]
  },
  {
   "cell_type": "markdown",
   "metadata": {},
   "source": [
    "# Surviving people based on gender and ticket price"
   ]
  },
  {
   "cell_type": "code",
   "execution_count": 58,
   "metadata": {},
   "outputs": [
    {
     "data": {
      "text/plain": [
       "<seaborn.axisgrid.FacetGrid at 0x1893ee1e48>"
      ]
     },
     "execution_count": 58,
     "metadata": {},
     "output_type": "execute_result"
    },
    {
     "data": {
      "image/png": "[encoded data removed]",
      "text/plain": [
       "<Figure size 426.125x360 with 1 Axes>"
      ]
     },
     "metadata": {},
     "output_type": "display_data"
    }
   ],
   "source": [
    "ticket_survived = titanic_data.loc[:, ['Sex', 'Age', 'Ticket', 'Fare', 'Survived']][titanic_data.Survived == 1].sort_values('Fare', ascending=False)\n",
    "\n",
    "sns.set(color_codes = True)\n",
    "sns.lmplot(x = 'Age', y = 'Fare', hue = 'Sex', data = ticket_survived, fit_reg = False)"
   ]
  },
  {
   "cell_type": "markdown",
   "metadata": {},
   "source": [
    "# People who died based on gender and ticket price"
   ]
  },
  {
   "cell_type": "code",
   "execution_count": 63,
   "metadata": {},
   "outputs": [
    {
     "data": {
      "text/plain": [
       "<seaborn.axisgrid.FacetGrid at 0x1893fd63c8>"
      ]
     },
     "execution_count": 63,
     "metadata": {},
     "output_type": "execute_result"
    },
    {
     "data": {
      "image/png": "[encoded data removed]",
      "text/plain": [
       "<Figure size 426.125x360 with 1 Axes>"
      ]
     },
     "metadata": {},
     "output_type": "display_data"
    }
   ],
   "source": [
    "ticket_died = titanic_data.loc[:, ['Sex', 'Age', 'Ticket', 'Fare', 'Survived']][titanic_data.Survived == 0].sort_values('Fare', ascending=False)\n",
    "\n",
    "\n",
    "sns.set(color_codes = True)\n",
    "sns.lmplot(x = 'Age', y = 'Fare', hue = 'Sex', data = ticket_died, fit_reg = False)"
   ]
  },
  {
   "cell_type": "code",
   "execution_count": null,
   "metadata": {},
   "outputs": [],
   "source": []
  }
 ],
 "metadata": {
  "kernelspec": {
   "display_name": "Python 3",
   "language": "python",
   "name": "python3"
  },
  "language_info": {
   "codemirror_mode": {
    "name": "ipython",
    "version": 3
   },
   "file_extension": ".py",
   "mimetype": "text/x-python",
   "name": "python",
   "nbconvert_exporter": "python",
   "pygments_lexer": "ipython3",
   "version": "3.6.5"
  }
 },
 "nbformat": 4,
 "nbformat_minor": 2
}
