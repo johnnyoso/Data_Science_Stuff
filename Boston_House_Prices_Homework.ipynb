{
 "cells": [
  {
   "attachments": {
    "image.png": {
     "image/png": "[encoded data removed]"
    }
   },
   "cell_type": "markdown",
   "metadata": {},
   "source": [
    "![image.png](attachment:image.png)"
   ]
  },
  {
   "cell_type": "markdown",
   "metadata": {},
   "source": [
    "# Black Cat Data - Data Science and AI\n",
    "## Lab 4.3: Measurements\n",
    "\n",
    "INSTRUCTIONS:\n",
    "\n",
    "- Run the cells\n",
    "- Observe and understand the results\n",
    "- Answer the questions"
   ]
  },
  {
   "cell_type": "code",
   "execution_count": 1,
   "metadata": {},
   "outputs": [],
   "source": [
    "## Import Libraries\n",
    "\n",
    "import pandas as pd\n",
    "\n",
    "%matplotlib inline\n",
    "import matplotlib.pyplot as plt\n",
    "\n",
    "from sklearn import datasets\n",
    "from sklearn.linear_model import LinearRegression\n",
    "from sklearn.model_selection import train_test_split"
   ]
  },
  {
   "cell_type": "code",
   "execution_count": 2,
   "metadata": {},
   "outputs": [],
   "source": [
    "boston_house_data = datasets.load_boston()"
   ]
  },
  {
   "cell_type": "code",
   "execution_count": 3,
   "metadata": {},
   "outputs": [],
   "source": [
    "X = pd.DataFrame(boston_house_data.data, columns = boston_house_data.feature_names)\n",
    "y = boston_house_data.target"
   ]
  },
  {
   "cell_type": "code",
   "execution_count": 10,
   "metadata": {},
   "outputs": [
    {
     "ename": "AttributeError",
     "evalue": "'numpy.ndarray' object has no attribute 'head'",
     "output_type": "error",
     "traceback": [
      "\u001b[1;31m---------------------------------------------------------------------------\u001b[0m",
      "\u001b[1;31mAttributeError\u001b[0m                            Traceback (most recent call last)",
      "\u001b[1;32m<ipython-input-10-17b2b1f6e15b>\u001b[0m in \u001b[0;36m<module>\u001b[1;34m()\u001b[0m\n\u001b[1;32m----> 1\u001b[1;33m \u001b[0my\u001b[0m\u001b[1;33m.\u001b[0m\u001b[0mhead\u001b[0m\u001b[1;33m(\u001b[0m\u001b[1;33m)\u001b[0m\u001b[1;33m\u001b[0m\u001b[0m\n\u001b[0m",
      "\u001b[1;31mAttributeError\u001b[0m: 'numpy.ndarray' object has no attribute 'head'"
     ]
    }
   ],
   "source": []
  },
  {
   "cell_type": "code",
   "execution_count": 4,
   "metadata": {},
   "outputs": [],
   "source": [
    "## Create training and testing subsets\n",
    "\n",
    "X_train, X_test, y_train, y_test = train_test_split(X, y, test_size = 0.2)"
   ]
  },
  {
   "cell_type": "code",
   "execution_count": 5,
   "metadata": {},
   "outputs": [
    {
     "data": {
      "text/html": [
       "<div>\n",
       "<style scoped>\n",
       "    .dataframe tbody tr th:only-of-type {\n",
       "        vertical-align: middle;\n",
       "    }\n",
       "\n",
       "    .dataframe tbody tr th {\n",
       "        vertical-align: top;\n",
       "    }\n",
       "\n",
       "    .dataframe thead th {\n",
       "        text-align: right;\n",
       "    }\n",
       "</style>\n",
       "<table border=\"1\" class=\"dataframe\">\n",
       "  <thead>\n",
       "    <tr style=\"text-align: right;\">\n",
       "      <th></th>\n",
       "      <th>CRIM</th>\n",
       "      <th>ZN</th>\n",
       "      <th>INDUS</th>\n",
       "      <th>CHAS</th>\n",
       "      <th>NOX</th>\n",
       "      <th>RM</th>\n",
       "      <th>AGE</th>\n",
       "      <th>DIS</th>\n",
       "      <th>RAD</th>\n",
       "      <th>TAX</th>\n",
       "      <th>PTRATIO</th>\n",
       "      <th>B</th>\n",
       "      <th>LSTAT</th>\n",
       "    </tr>\n",
       "  </thead>\n",
       "  <tbody>\n",
       "    <tr>\n",
       "      <th>479</th>\n",
       "      <td>14.33370</td>\n",
       "      <td>0.0</td>\n",
       "      <td>18.10</td>\n",
       "      <td>0.0</td>\n",
       "      <td>0.614</td>\n",
       "      <td>6.229</td>\n",
       "      <td>88.0</td>\n",
       "      <td>1.9512</td>\n",
       "      <td>24.0</td>\n",
       "      <td>666.0</td>\n",
       "      <td>20.2</td>\n",
       "      <td>383.32</td>\n",
       "      <td>13.11</td>\n",
       "    </tr>\n",
       "    <tr>\n",
       "      <th>241</th>\n",
       "      <td>0.10612</td>\n",
       "      <td>30.0</td>\n",
       "      <td>4.93</td>\n",
       "      <td>0.0</td>\n",
       "      <td>0.428</td>\n",
       "      <td>6.095</td>\n",
       "      <td>65.1</td>\n",
       "      <td>6.3361</td>\n",
       "      <td>6.0</td>\n",
       "      <td>300.0</td>\n",
       "      <td>16.6</td>\n",
       "      <td>394.62</td>\n",
       "      <td>12.40</td>\n",
       "    </tr>\n",
       "    <tr>\n",
       "      <th>10</th>\n",
       "      <td>0.22489</td>\n",
       "      <td>12.5</td>\n",
       "      <td>7.87</td>\n",
       "      <td>0.0</td>\n",
       "      <td>0.524</td>\n",
       "      <td>6.377</td>\n",
       "      <td>94.3</td>\n",
       "      <td>6.3467</td>\n",
       "      <td>5.0</td>\n",
       "      <td>311.0</td>\n",
       "      <td>15.2</td>\n",
       "      <td>392.52</td>\n",
       "      <td>20.45</td>\n",
       "    </tr>\n",
       "    <tr>\n",
       "      <th>417</th>\n",
       "      <td>25.94060</td>\n",
       "      <td>0.0</td>\n",
       "      <td>18.10</td>\n",
       "      <td>0.0</td>\n",
       "      <td>0.679</td>\n",
       "      <td>5.304</td>\n",
       "      <td>89.1</td>\n",
       "      <td>1.6475</td>\n",
       "      <td>24.0</td>\n",
       "      <td>666.0</td>\n",
       "      <td>20.2</td>\n",
       "      <td>127.36</td>\n",
       "      <td>26.64</td>\n",
       "    </tr>\n",
       "    <tr>\n",
       "      <th>373</th>\n",
       "      <td>11.10810</td>\n",
       "      <td>0.0</td>\n",
       "      <td>18.10</td>\n",
       "      <td>0.0</td>\n",
       "      <td>0.668</td>\n",
       "      <td>4.906</td>\n",
       "      <td>100.0</td>\n",
       "      <td>1.1742</td>\n",
       "      <td>24.0</td>\n",
       "      <td>666.0</td>\n",
       "      <td>20.2</td>\n",
       "      <td>396.90</td>\n",
       "      <td>34.77</td>\n",
       "    </tr>\n",
       "  </tbody>\n",
       "</table>\n",
       "</div>"
      ],
      "text/plain": [
       "         CRIM    ZN  INDUS  CHAS    NOX     RM    AGE     DIS   RAD    TAX  \\\n",
       "479  14.33370   0.0  18.10   0.0  0.614  6.229   88.0  1.9512  24.0  666.0   \n",
       "241   0.10612  30.0   4.93   0.0  0.428  6.095   65.1  6.3361   6.0  300.0   \n",
       "10    0.22489  12.5   7.87   0.0  0.524  6.377   94.3  6.3467   5.0  311.0   \n",
       "417  25.94060   0.0  18.10   0.0  0.679  5.304   89.1  1.6475  24.0  666.0   \n",
       "373  11.10810   0.0  18.10   0.0  0.668  4.906  100.0  1.1742  24.0  666.0   \n",
       "\n",
       "     PTRATIO       B  LSTAT  \n",
       "479     20.2  383.32  13.11  \n",
       "241     16.6  394.62  12.40  \n",
       "10      15.2  392.52  20.45  \n",
       "417     20.2  127.36  26.64  \n",
       "373     20.2  396.90  34.77  "
      ]
     },
     "execution_count": 5,
     "metadata": {},
     "output_type": "execute_result"
    }
   ],
   "source": [
    "X_test.head()"
   ]
  },
  {
   "cell_type": "code",
   "execution_count": 6,
   "metadata": {},
   "outputs": [
    {
     "name": "stdout",
     "output_type": "stream",
     "text": [
      "Add LSTAT with R^2 = 0.577 and adjusted R^2 = 0.573\n",
      "Add RM   with R^2 = 0.673 and adjusted R^2 = 0.666\n",
      "Add PTRATIO with R^2 = 0.704 and adjusted R^2 = 0.695\n",
      "Add DIS  with R^2 = 0.716 and adjusted R^2 = 0.704\n",
      "Add NOX  with R^2 = 0.730 and adjusted R^2 = 0.716\n",
      "Add CHAS with R^2 = 0.738 and adjusted R^2 = 0.721\n",
      "Add B    with R^2 = 0.743 and adjusted R^2 = 0.724\n",
      "Add ZN   with R^2 = 0.746 and adjusted R^2 = 0.724\n",
      "Add RAD  with R^2 = 0.747 and adjusted R^2 = 0.723\n",
      "Add TAX  with R^2 = 0.753 and adjusted R^2 = 0.726\n",
      "Add CRIM with R^2 = 0.756 and adjusted R^2 = 0.726\n",
      "Add INDUS with R^2 = 0.756 and adjusted R^2 = 0.723\n",
      "Add AGE  with R^2 = 0.756 and adjusted R^2 = 0.720\n",
      "\n",
      "Resulting features:\n",
      "LSTAT, RM, PTRATIO, DIS, NOX, CHAS, B, ZN, RAD, TAX, CRIM, INDUS, AGE\n"
     ]
    }
   ],
   "source": [
    "## Use Forward Feature Selection to pick a good model\n",
    "\n",
    "# start with no input variables\n",
    "included = []\n",
    "r2_list = []\n",
    "adjusted_r2_list = []\n",
    "model = LinearRegression()\n",
    "n = X_test.shape[0]\n",
    "\n",
    "for _ in range(X.shape[1]):\n",
    "    # keep track of model and parameters\n",
    "    best = ('', 0, 0)\n",
    "    # list the input variables to be evaluated\n",
    "    excluded = list(set(X.columns) - set(included))\n",
    "    # for each remaining feature to be evaluated\n",
    "    for new_column in excluded:\n",
    "        # fit the model with the Training data\n",
    "        fit = model.fit(X_train[included + [new_column]], y_train)\n",
    "        # calculate the score (R^2 for Regression)\n",
    "        r2 = fit.score(X_train[included + [new_column]], y_train)\n",
    "        # number of features in this model\n",
    "        k = len(included) + 1\n",
    "        # calculate the adjusted R^2\n",
    "        adjusted_r2 = 1 - ( ( (1 - r2) * (n - 1) ) / (n - k - 1) )\n",
    "\n",
    "        # if model improves\n",
    "        if adjusted_r2 > best[2]:\n",
    "            # record new parameters\n",
    "            best = (new_column, r2, adjusted_r2)\n",
    "    # END for new_column in excluded\n",
    "\n",
    "    r2_list.append(best[1])\n",
    "    adjusted_r2_list.append(best[2])\n",
    "\n",
    "    included.append(best[0])\n",
    "    excluded = list(set(excluded) - set(best[0]))\n",
    "    print('Add %-4s with R^2 = %.3f and adjusted R^2 = %.3f' % (best))\n",
    "\n",
    "print('')\n",
    "print('Resulting features:')\n",
    "print(', '.join(included))"
   ]
  },
  {
   "cell_type": "code",
   "execution_count": 8,
   "metadata": {},
   "outputs": [
    {
     "data": {
      "image/png": "[encoded data removed]",
      "text/plain": [
       "<Figure size 720x360 with 1 Axes>"
      ]
     },
     "metadata": {},
     "output_type": "display_data"
    }
   ],
   "source": [
    "## Chart both R^2 and Adjusted R^2\n",
    "\n",
    "# define chart size\n",
    "plt.figure(figsize = (10, 5))\n",
    "# plot each metric \n",
    "plt.plot(range(1, 14), r2_list, label = '$R^2$', marker = '.')\n",
    "plt.plot(range(1, 14), adjusted_r2_list, label = '$Adjusted \\: R^2$', marker = '.')\n",
    "# add some better visualisation\n",
    "plt.xlabel('Number of Features')\n",
    "plt.legend()\n",
    "# output the chart\n",
    "plt.show()"
   ]
  },
  {
   "cell_type": "markdown",
   "metadata": {},
   "source": [
    "### QUESTION: What can you comment on the results presented in the graphic?"
   ]
  },
  {
   "cell_type": "markdown",
   "metadata": {},
   "source": [
    "# I think that the optimal number of features would be around 9 or 10 since the Adjusted R2 started decreasing after 10 features"
   ]
  }
 ],
 "metadata": {
  "kernelspec": {
   "display_name": "Python 3",
   "language": "python",
   "name": "python3"
  },
  "language_info": {
   "codemirror_mode": {
    "name": "ipython",
    "version": 3
   },
   "file_extension": ".py",
   "mimetype": "text/x-python",
   "name": "python",
   "nbconvert_exporter": "python",
   "pygments_lexer": "ipython3",
   "version": "3.6.5"
  }
 },
 "nbformat": 4,
 "nbformat_minor": 2
}
