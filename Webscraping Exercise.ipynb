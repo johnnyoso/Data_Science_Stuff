{
 "cells": [
  {
   "cell_type": "code",
   "execution_count": 1,
   "metadata": {},
   "outputs": [],
   "source": [
    "import requests\n",
    "import bs4\n",
    "import re\n",
    "import pandas as pd"
   ]
  },
  {
   "cell_type": "code",
   "execution_count": 2,
   "metadata": {},
   "outputs": [],
   "source": [
    "response = requests.get('https://www.seek.com.au/data-science-jobs')"
   ]
  },
  {
   "cell_type": "code",
   "execution_count": 3,
   "metadata": {},
   "outputs": [],
   "source": [
    "soup = bs4.BeautifulSoup(response.text, 'lxml')"
   ]
  },
  {
   "cell_type": "code",
   "execution_count": 4,
   "metadata": {},
   "outputs": [],
   "source": [
    "data = soup.find_all('article')\n",
    "\n",
    "#Create an array of job dictionary information\n",
    "job_information = []\n",
    "\n",
    "for single_article in data:\n",
    "    #Create a dictionary of features\n",
    "    database = {}\n",
    "    \n",
    "    try:\n",
    "        job_title = single_article.find(attrs={'data-automation' : 'jobTitle'}).get_text()\n",
    "    except:\n",
    "        job_title = ''\n",
    "        \n",
    "    try:\n",
    "        job_location = single_article.find(attrs={'data-automation' : 'jobLocation'}).get_text()\n",
    "    except:\n",
    "        job_location = ''\n",
    "    \n",
    "    try:\n",
    "        job_short_description = single_article.find(attrs={'data-automation' : 'jobShortDescription'}).get_text()\n",
    "    except:\n",
    "        job_short_description = ''\n",
    "    \n",
    "    try: \n",
    "        job_salary = single_article.find(attrs={'data-automation' : 'jobSalary'}).get_text()\n",
    "    except:\n",
    "        job_salary = ''\n",
    "        \n",
    "    database['job_title'] = job_title\n",
    "    database['job_location'] = job_location\n",
    "    database['job_short_description'] = job_short_description\n",
    "    database['job_salary'] = job_salary\n",
    "    \n",
    "    job_information.append(database)\n",
    "    \n"
   ]
  },
  {
   "cell_type": "code",
   "execution_count": 5,
   "metadata": {},
   "outputs": [],
   "source": [
    "#Now we create the dataframe\n",
    "    \n",
    "jobTitleList = [job_information[x]['job_title'] for x in range(len(job_information))]\n",
    "jobLocationList = [job_information[x]['job_location'] for x in range(len(job_information))]\n",
    "jobShortDescriptionList = [job_information[x]['job_short_description'] for x in range(len(job_information))]\n",
    "jobSalaryList = [job_information[x]['job_salary'] for x in range(len(job_information))]\n",
    "\n"
   ]
  },
  {
   "cell_type": "code",
   "execution_count": 6,
   "metadata": {},
   "outputs": [],
   "source": [
    "df = pd.DataFrame({'job_title' : jobTitleList, 'job_location' : jobLocationList, \n",
    "                   'job_short_description' : jobShortDescriptionList, 'job_salary' : jobSalaryList}, \n",
    "    index = [x for x in range(len(job_information))])\n",
    "\n"
   ]
  },
  {
   "cell_type": "code",
   "execution_count": 7,
   "metadata": {},
   "outputs": [
    {
     "name": "stdout",
     "output_type": "stream",
     "text": [
      "                                           job_title  job_location  \\\n",
      "0               Lead Data Scientist at Homely.com.au     Melbourne   \n",
      "1  Client Delivery Manager - Data Science / Analy...     Melbourne   \n",
      "2         Senior Lecturer, Data Science & Statistics  Northern QLD   \n",
      "3                 Principal Consultant, Data Science      Brisbane   \n",
      "4                 Principal Consultant, Data Science      Brisbane   \n",
      "\n",
      "                               job_short_description  \\\n",
      "0  We are seeking an experienced Data Scientist t...   \n",
      "1  Exciting Business Focused On Artificial Intell...   \n",
      "2  Continuing position developing new programs in...   \n",
      "3  A challenging and enjoyable role involving bot...   \n",
      "4  A challenging and enjoyable role involving bot...   \n",
      "\n",
      "                                     job_salary  \n",
      "0                                                \n",
      "1  $140k - $180k + Benefits - Depending on Exp.  \n",
      "2                           $112,562 - $129,220  \n",
      "3                                                \n",
      "4                                                \n"
     ]
    }
   ],
   "source": [
    "print(df.head())"
   ]
  },
  {
   "cell_type": "code",
   "execution_count": null,
   "metadata": {},
   "outputs": [],
   "source": []
  }
 ],
 "metadata": {
  "kernelspec": {
   "display_name": "Python 3",
   "language": "python",
   "name": "python3"
  },
  "language_info": {
   "codemirror_mode": {
    "name": "ipython",
    "version": 3
   },
   "file_extension": ".py",
   "mimetype": "text/x-python",
   "name": "python",
   "nbconvert_exporter": "python",
   "pygments_lexer": "ipython3",
   "version": "3.6.5"
  }
 },
 "nbformat": 4,
 "nbformat_minor": 2
}
